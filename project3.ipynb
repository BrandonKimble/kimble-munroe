{
 "cells": [
  {
   "cell_type": "markdown",
   "metadata": {},
   "source": [
    "### 1. Download Shopify dataset and create table script:"
   ]
  },
  {
   "cell_type": "code",
   "execution_count": null,
   "metadata": {},
   "outputs": [],
   "source": [
    "!gsutil cp gs://cs327e-open-access/spanner_shopify.zip /home/jupyter/kimble-munroe"
   ]
  },
  {
   "cell_type": "code",
   "execution_count": null,
   "metadata": {},
   "outputs": [],
   "source": [
    "!unzip /home/jupyter/kimble-munroe/spanner_shopify.zip"
   ]
  },
  {
   "cell_type": "markdown",
   "metadata": {},
   "source": [
    "### 2. Configure Spanner CLI and create Shopify Database"
   ]
  },
  {
   "cell_type": "code",
   "execution_count": 1,
   "metadata": {},
   "outputs": [
    {
     "name": "stdout",
     "output_type": "stream",
     "text": [
      "env: CLI=/home/jupyter/kimble-munroe/spanner-cli-0.9.9/spanner-cli\n",
      "env: SPAN_PROJECT=speedy-volt-324118\n",
      "env: SPAN_INSTANCE=span\n",
      "env: SPAN_DATABASE=span\n"
     ]
    }
   ],
   "source": [
    "%env CLI=/home/jupyter/kimble-munroe/spanner-cli-0.9.9/spanner-cli\n",
    "%env SPAN_PROJECT=speedy-volt-324118\n",
    "%env SPAN_INSTANCE=span\n",
    "%env SPAN_DATABASE=span"
   ]
  },
  {
   "cell_type": "code",
   "execution_count": 2,
   "metadata": {},
   "outputs": [],
   "source": [
    "!$CLI -p $SPAN_PROJECT -i $SPAN_INSTANCE -d $SPAN_DATABASE -e \"show tables\""
   ]
  },
  {
   "cell_type": "code",
   "execution_count": 3,
   "metadata": {},
   "outputs": [],
   "source": [
    "CLI_CONNECT=\"$CLI -p $SPAN_PROJECT -i $SPAN_INSTANCE -d $SPAN_DATABASE\""
   ]
  },
  {
   "cell_type": "code",
   "execution_count": 4,
   "metadata": {},
   "outputs": [],
   "source": [
    "!{CLI_CONNECT} -e \"create database shopify\""
   ]
  },
  {
   "cell_type": "code",
   "execution_count": 5,
   "metadata": {},
   "outputs": [
    {
     "name": "stdout",
     "output_type": "stream",
     "text": [
      "env: SPAN_DATABASE=shopify\n"
     ]
    }
   ],
   "source": [
    "%env SPAN_DATABASE=shopify"
   ]
  },
  {
   "cell_type": "code",
   "execution_count": 6,
   "metadata": {},
   "outputs": [],
   "source": [
    "!$CLI -p $SPAN_PROJECT -i $SPAN_INSTANCE -d $SPAN_DATABASE -e \"show tables\""
   ]
  },
  {
   "cell_type": "code",
   "execution_count": 7,
   "metadata": {},
   "outputs": [],
   "source": [
    "!{CLI_CONNECT} -f /home/jupyter/kimble-munroe/spanner_shopify/create_tables.sql"
   ]
  },
  {
   "cell_type": "code",
   "execution_count": 8,
   "metadata": {},
   "outputs": [
    {
     "name": "stdout",
     "output_type": "stream",
     "text": [
      "Tables_in_shopify\n",
      "apps\n",
      "apps_categories\n",
      "categories\n",
      "key_benefits\n",
      "pricing_plan_features\n",
      "pricing_plans\n",
      "reviews\n"
     ]
    }
   ],
   "source": [
    "!{CLI_CONNECT} -e \"show tables\""
   ]
  },
  {
   "cell_type": "code",
   "execution_count": 9,
   "metadata": {},
   "outputs": [
    {
     "name": "stdout",
     "output_type": "stream",
     "text": [
      "Table\tCreate Table\n",
      "key_benefits\tCREATE TABLE key_benefits (\n",
      "  app_id STRING(50),\n",
      "  title STRING(2000),\n",
      "  description STRING(MAX),\n",
      ") PRIMARY KEY(app_id, title)\n"
     ]
    }
   ],
   "source": [
    "!{CLI_CONNECT} -e \"show create table key_benefits\""
   ]
  },
  {
   "cell_type": "code",
   "execution_count": 10,
   "metadata": {},
   "outputs": [
    {
     "name": "stdout",
     "output_type": "stream",
     "text": [
      "Table\tCreate Table\n",
      "apps\tCREATE TABLE apps (\n",
      "  id STRING(50),\n",
      "  url STRING(1000),\n",
      "  title STRING(2000),\n",
      "  developer STRING(100),\n",
      "  developer_link STRING(1000),\n",
      "  icon STRING(1000),\n",
      "  rating FLOAT64,\n",
      "  reviews_count INT64,\n",
      ") PRIMARY KEY(id)\n"
     ]
    }
   ],
   "source": [
    "!{CLI_CONNECT} -e \"show create table apps\""
   ]
  },
  {
   "cell_type": "code",
   "execution_count": 11,
   "metadata": {},
   "outputs": [
    {
     "name": "stdout",
     "output_type": "stream",
     "text": [
      "Table\tCreate Table\n",
      "pricing_plans\tCREATE TABLE pricing_plans (\n",
      "  id STRING(50),\n",
      "  app_id STRING(50),\n",
      "  title STRING(200),\n",
      "  price FLOAT64,\n",
      ") PRIMARY KEY(id)\n"
     ]
    }
   ],
   "source": [
    "!{CLI_CONNECT} -e \"show create table pricing_plans\""
   ]
  },
  {
   "cell_type": "code",
   "execution_count": 12,
   "metadata": {},
   "outputs": [
    {
     "name": "stdout",
     "output_type": "stream",
     "text": [
      "Table\tCreate Table\n",
      "apps_categories\tCREATE TABLE apps_categories (\n",
      "  app_id STRING(50),\n",
      "  category_id STRING(50),\n",
      ") PRIMARY KEY(app_id, category_id)\n"
     ]
    }
   ],
   "source": [
    "!{CLI_CONNECT} -e \"show create table apps_categories\""
   ]
  },
  {
   "cell_type": "code",
   "execution_count": 13,
   "metadata": {},
   "outputs": [
    {
     "name": "stdout",
     "output_type": "stream",
     "text": [
      "Table\tCreate Table\n",
      "pricing_plan_features\tCREATE TABLE pricing_plan_features (\n",
      "  pricing_plan_id STRING(50),\n",
      "  app_id STRING(50),\n",
      "  feature STRING(MAX),\n",
      ") PRIMARY KEY(pricing_plan_id, app_id, feature)\n"
     ]
    }
   ],
   "source": [
    "!{CLI_CONNECT} -e \"show create table pricing_plan_features\""
   ]
  },
  {
   "cell_type": "code",
   "execution_count": 14,
   "metadata": {},
   "outputs": [
    {
     "name": "stdout",
     "output_type": "stream",
     "text": [
      "Table\tCreate Table\n",
      "categories\tCREATE TABLE categories (\n",
      "  id STRING(50),\n",
      "  title STRING(2000),\n",
      ") PRIMARY KEY(id)\n"
     ]
    }
   ],
   "source": [
    "!{CLI_CONNECT} -e \"show create table categories\""
   ]
  },
  {
   "cell_type": "code",
   "execution_count": 15,
   "metadata": {},
   "outputs": [
    {
     "name": "stdout",
     "output_type": "stream",
     "text": [
      "Table\tCreate Table\n",
      "reviews\tCREATE TABLE reviews (\n",
      "  app_id STRING(50),\n",
      "  author STRING(250),\n",
      "  rating INT64,\n",
      "  posted_at DATE,\n",
      ") PRIMARY KEY(app_id, author)\n"
     ]
    }
   ],
   "source": [
    "!{CLI_CONNECT} -e \"show create table reviews\""
   ]
  },
  {
   "cell_type": "markdown",
   "metadata": {},
   "source": [
    "### 3. Populate tables"
   ]
  },
  {
   "cell_type": "code",
   "execution_count": 16,
   "metadata": {},
   "outputs": [],
   "source": [
    "from google.cloud import spanner\n",
    "from google.cloud.spanner_v1 import param_types\n",
    "import math, pandas as pd"
   ]
  },
  {
   "cell_type": "code",
   "execution_count": 17,
   "metadata": {},
   "outputs": [],
   "source": [
    "span_instance='span'\n",
    "span_database='shopify'\n",
    "dir_path = '/home/jupyter/kimble-munroe/spanner_shopify'\n",
    "spanner_client = spanner.Client()\n",
    "instance = spanner_client.instance(span_instance)\n",
    "database = instance.database(span_database)"
   ]
  },
  {
   "cell_type": "code",
   "execution_count": 18,
   "metadata": {},
   "outputs": [],
   "source": [
    "def split_dataframe(df, split_size): \n",
    "    splits = list()\n",
    "    num_splits = math.ceil(len(df) / split_size) \n",
    "    for i in range(0, len(df), split_size):\n",
    "        df_subset = df.iloc[i:i + split_size]\n",
    "        splits.append(df_subset)\n",
    "    return splits"
   ]
  },
  {
   "cell_type": "code",
   "execution_count": 19,
   "metadata": {},
   "outputs": [
    {
     "name": "stdout",
     "output_type": "stream",
     "text": [
      "inserting 1000 rows into apps\n",
      "inserting 1000 rows into apps\n",
      "inserting 1000 rows into apps\n",
      "inserting 547 rows into apps\n"
     ]
    }
   ],
   "source": [
    "table = 'apps'\n",
    "df = pd.read_csv(dir_path + '/apps.csv', sep=',', header=0, lineterminator='\\n')\n",
    "\n",
    "df_splits = split_dataframe(df, split_size=1000)\n",
    "\n",
    "for split in df_splits:\n",
    "    rows = split.values.tolist()\n",
    "    print('inserting ' + str(len(rows)) + ' rows into ' + table)\n",
    "\n",
    "    with database.batch() as batch:\n",
    "        batch.insert(\n",
    "            table=table,\n",
    "            columns=('id', 'url', 'title', 'developer', 'developer_link', 'icon', 'rating', 'reviews_count'),\n",
    "            values=rows\n",
    "        )"
   ]
  },
  {
   "cell_type": "code",
   "execution_count": 20,
   "metadata": {},
   "outputs": [
    {
     "name": "stdout",
     "output_type": "stream",
     "text": [
      "inserting 1000 rows into apps_categories\n",
      "inserting 1000 rows into apps_categories\n",
      "inserting 1000 rows into apps_categories\n",
      "inserting 1000 rows into apps_categories\n",
      "inserting 1000 rows into apps_categories\n",
      "inserting 383 rows into apps_categories\n"
     ]
    }
   ],
   "source": [
    "table = 'apps_categories'\n",
    "df = pd.read_csv(dir_path + '/apps_categories.csv', sep=',', header=0, lineterminator='\\n')\n",
    "df_splits = split_dataframe(df, split_size=1000)\n",
    "\n",
    "for split in df_splits:\n",
    "    rows = split.values.tolist()\n",
    "    print('inserting ' + str(len(rows)) + ' rows into ' + table)\n",
    "    \n",
    "    with database.batch() as batch:\n",
    "        batch.insert(\n",
    "            table=table,\n",
    "            columns=('app_id', 'category_id'),\n",
    "            values=rows\n",
    "        )"
   ]
  },
  {
   "cell_type": "code",
   "execution_count": 21,
   "metadata": {},
   "outputs": [
    {
     "name": "stdout",
     "output_type": "stream",
     "text": [
      "inserting 12 rows into categories\n"
     ]
    }
   ],
   "source": [
    "table = 'categories'\n",
    "df = pd.read_csv(dir_path + '/categories.csv', sep=',', header=0, lineterminator='\\n')\n",
    "rows = df.values.tolist()\n",
    "print('inserting ' + str(len(rows)) + ' rows into ' + table)\n",
    "    \n",
    "with database.batch() as batch:\n",
    "    batch.insert(\n",
    "        table=table,\n",
    "        columns=('id', 'title'),\n",
    "        values=rows\n",
    "    )"
   ]
  },
  {
   "cell_type": "code",
   "execution_count": 22,
   "metadata": {},
   "outputs": [
    {
     "name": "stdout",
     "output_type": "stream",
     "text": [
      "inserting 1000 rows into key_benefits\n",
      "inserting 1000 rows into key_benefits\n",
      "inserting 1000 rows into key_benefits\n",
      "inserting 1000 rows into key_benefits\n",
      "inserting 1000 rows into key_benefits\n",
      "inserting 1000 rows into key_benefits\n",
      "inserting 1000 rows into key_benefits\n",
      "inserting 1000 rows into key_benefits\n",
      "inserting 1000 rows into key_benefits\n",
      "inserting 541 rows into key_benefits\n"
     ]
    }
   ],
   "source": [
    "table = 'key_benefits'\n",
    "df = pd.read_csv(dir_path + '/key_benefits.csv', sep=',', header=0, lineterminator='\\n')\n",
    "df_splits = split_dataframe(df, split_size=1000)\n",
    "\n",
    "for split in df_splits:\n",
    "    rows = split.values.tolist()\n",
    "    print('inserting ' + str(len(rows)) + ' rows into ' + table)\n",
    "\n",
    "    with database.batch() as batch:\n",
    "        batch.insert(\n",
    "            table=table,\n",
    "            columns=('app_id', 'title', 'description'),\n",
    "            values=rows\n",
    "        )"
   ]
  },
  {
   "cell_type": "code",
   "execution_count": 23,
   "metadata": {},
   "outputs": [
    {
     "name": "stdout",
     "output_type": "stream",
     "text": [
      "inserting 1000 rows into pricing_plans\n",
      "inserting 1000 rows into pricing_plans\n",
      "inserting 1000 rows into pricing_plans\n",
      "inserting 1000 rows into pricing_plans\n",
      "inserting 1000 rows into pricing_plans\n",
      "inserting 1000 rows into pricing_plans\n",
      "inserting 275 rows into pricing_plans\n"
     ]
    }
   ],
   "source": [
    "table = 'pricing_plans'\n",
    "df = pd.read_csv(dir_path + '/pricing_plans.csv', sep=',', header=0, lineterminator='\\n')\n",
    "df_splits = split_dataframe(df, split_size=1000)\n",
    "\n",
    "for split in df_splits:\n",
    "    rows = split.values.tolist()\n",
    "    print('inserting ' + str(len(rows)) + ' rows into ' + table)\n",
    "\n",
    "    with database.batch() as batch:\n",
    "        batch.insert(\n",
    "            table=table,\n",
    "            columns=('id', 'app_id', 'title', 'price'),\n",
    "            values=rows\n",
    "        )"
   ]
  },
  {
   "cell_type": "code",
   "execution_count": 24,
   "metadata": {},
   "outputs": [
    {
     "name": "stdout",
     "output_type": "stream",
     "text": [
      "inserting 1000 rows into pricing_plan_features\n",
      "inserting 1000 rows into pricing_plan_features\n",
      "inserting 1000 rows into pricing_plan_features\n",
      "inserting 1000 rows into pricing_plan_features\n",
      "inserting 1000 rows into pricing_plan_features\n",
      "inserting 1000 rows into pricing_plan_features\n",
      "inserting 1000 rows into pricing_plan_features\n",
      "inserting 1000 rows into pricing_plan_features\n",
      "inserting 1000 rows into pricing_plan_features\n",
      "inserting 1000 rows into pricing_plan_features\n",
      "inserting 1000 rows into pricing_plan_features\n",
      "inserting 1000 rows into pricing_plan_features\n",
      "inserting 1000 rows into pricing_plan_features\n",
      "inserting 1000 rows into pricing_plan_features\n",
      "inserting 1000 rows into pricing_plan_features\n",
      "inserting 1000 rows into pricing_plan_features\n",
      "inserting 270 rows into pricing_plan_features\n"
     ]
    }
   ],
   "source": [
    "table = 'pricing_plan_features'\n",
    "df = pd.read_csv(dir_path + '/pricing_plan_features.csv', sep=',', header=0, lineterminator='\\n')\n",
    "df_splits = split_dataframe(df, split_size=1000)\n",
    "\n",
    "for split in df_splits:\n",
    "    rows = split.values.tolist()\n",
    "    print('inserting ' + str(len(rows)) + ' rows into ' + table)\n",
    "\n",
    "    with database.batch() as batch:\n",
    "        batch.insert(\n",
    "            table=table,\n",
    "            columns=('pricing_plan_id', 'app_id', 'feature'),\n",
    "            values=rows\n",
    "        )"
   ]
  },
  {
   "cell_type": "code",
   "execution_count": 25,
   "metadata": {},
   "outputs": [
    {
     "name": "stdout",
     "output_type": "stream",
     "text": [
      "                                 app_id                  author  rating  \\\n",
      "0  00289a9f-9f12-45b1-963b-67e78403f7c7            Hellobeanies       5   \n",
      "1  00289a9f-9f12-45b1-963b-67e78403f7c7                 Pdmovie       1   \n",
      "2  00289a9f-9f12-45b1-963b-67e78403f7c7             Mommymakeup       1   \n",
      "3  00289a9f-9f12-45b1-963b-67e78403f7c7  The King Herb Enhancer       5   \n",
      "4  00289a9f-9f12-45b1-963b-67e78403f7c7            Training Top       4   \n",
      "\n",
      "    posted_at  \n",
      "0  2017-09-01  \n",
      "1  2016-10-09  \n",
      "2  2016-11-17  \n",
      "3  2016-12-01  \n",
      "4  2018-05-02  \n",
      "inserting 1000 rows into reviews\n",
      "inserting 1000 rows into reviews\n",
      "inserting 1000 rows into reviews\n",
      "inserting 1000 rows into reviews\n",
      "inserting 1000 rows into reviews\n",
      "inserting 1000 rows into reviews\n",
      "inserting 1000 rows into reviews\n",
      "inserting 1000 rows into reviews\n",
      "inserting 1000 rows into reviews\n",
      "inserting 1000 rows into reviews\n",
      "inserting 1000 rows into reviews\n",
      "inserting 1000 rows into reviews\n",
      "inserting 1000 rows into reviews\n",
      "inserting 1000 rows into reviews\n",
      "inserting 1000 rows into reviews\n",
      "inserting 1000 rows into reviews\n",
      "inserting 1000 rows into reviews\n",
      "inserting 1000 rows into reviews\n",
      "inserting 1000 rows into reviews\n",
      "inserting 1000 rows into reviews\n",
      "inserting 1000 rows into reviews\n",
      "inserting 1000 rows into reviews\n",
      "inserting 1000 rows into reviews\n",
      "inserting 1000 rows into reviews\n",
      "inserting 1000 rows into reviews\n",
      "inserting 1000 rows into reviews\n",
      "inserting 1000 rows into reviews\n",
      "inserting 1000 rows into reviews\n",
      "inserting 1000 rows into reviews\n",
      "inserting 1000 rows into reviews\n",
      "inserting 1000 rows into reviews\n",
      "inserting 1000 rows into reviews\n",
      "inserting 1000 rows into reviews\n",
      "inserting 1000 rows into reviews\n",
      "inserting 1000 rows into reviews\n",
      "inserting 1000 rows into reviews\n",
      "inserting 1000 rows into reviews\n",
      "inserting 1000 rows into reviews\n",
      "inserting 1000 rows into reviews\n",
      "inserting 1000 rows into reviews\n",
      "inserting 1000 rows into reviews\n",
      "inserting 1000 rows into reviews\n",
      "inserting 1000 rows into reviews\n",
      "inserting 1000 rows into reviews\n",
      "inserting 1000 rows into reviews\n",
      "inserting 1000 rows into reviews\n",
      "inserting 1000 rows into reviews\n",
      "inserting 1000 rows into reviews\n",
      "inserting 1000 rows into reviews\n",
      "inserting 1000 rows into reviews\n",
      "inserting 1000 rows into reviews\n",
      "inserting 1000 rows into reviews\n",
      "inserting 1000 rows into reviews\n",
      "inserting 1000 rows into reviews\n",
      "inserting 1000 rows into reviews\n",
      "inserting 1000 rows into reviews\n",
      "inserting 1000 rows into reviews\n",
      "inserting 1000 rows into reviews\n",
      "inserting 1000 rows into reviews\n",
      "inserting 1000 rows into reviews\n",
      "inserting 1000 rows into reviews\n",
      "inserting 1000 rows into reviews\n",
      "inserting 1000 rows into reviews\n",
      "inserting 1000 rows into reviews\n",
      "inserting 1000 rows into reviews\n",
      "inserting 1000 rows into reviews\n",
      "inserting 1000 rows into reviews\n",
      "inserting 1000 rows into reviews\n",
      "inserting 1000 rows into reviews\n",
      "inserting 1000 rows into reviews\n",
      "inserting 1000 rows into reviews\n",
      "inserting 1000 rows into reviews\n",
      "inserting 1000 rows into reviews\n",
      "inserting 1000 rows into reviews\n",
      "inserting 1000 rows into reviews\n",
      "inserting 1000 rows into reviews\n",
      "inserting 1000 rows into reviews\n",
      "inserting 1000 rows into reviews\n",
      "inserting 1000 rows into reviews\n",
      "inserting 1000 rows into reviews\n",
      "inserting 1000 rows into reviews\n",
      "inserting 1000 rows into reviews\n",
      "inserting 1000 rows into reviews\n",
      "inserting 1000 rows into reviews\n",
      "inserting 1000 rows into reviews\n",
      "inserting 1000 rows into reviews\n",
      "inserting 1000 rows into reviews\n",
      "inserting 1000 rows into reviews\n",
      "inserting 1000 rows into reviews\n",
      "inserting 1000 rows into reviews\n",
      "inserting 1000 rows into reviews\n",
      "inserting 1000 rows into reviews\n",
      "inserting 1000 rows into reviews\n",
      "inserting 1000 rows into reviews\n",
      "inserting 1000 rows into reviews\n",
      "inserting 1000 rows into reviews\n",
      "inserting 1000 rows into reviews\n",
      "inserting 1000 rows into reviews\n",
      "inserting 1000 rows into reviews\n",
      "inserting 1000 rows into reviews\n",
      "inserting 1000 rows into reviews\n",
      "inserting 1000 rows into reviews\n",
      "inserting 1000 rows into reviews\n",
      "inserting 1000 rows into reviews\n",
      "inserting 1000 rows into reviews\n",
      "inserting 1000 rows into reviews\n",
      "inserting 1000 rows into reviews\n",
      "inserting 1000 rows into reviews\n",
      "inserting 1000 rows into reviews\n",
      "inserting 1000 rows into reviews\n",
      "inserting 1000 rows into reviews\n",
      "inserting 1000 rows into reviews\n",
      "inserting 1000 rows into reviews\n",
      "inserting 1000 rows into reviews\n",
      "inserting 1000 rows into reviews\n",
      "inserting 1000 rows into reviews\n",
      "inserting 1000 rows into reviews\n",
      "inserting 1000 rows into reviews\n",
      "inserting 1000 rows into reviews\n",
      "inserting 1000 rows into reviews\n",
      "inserting 1000 rows into reviews\n",
      "inserting 1000 rows into reviews\n",
      "inserting 1000 rows into reviews\n",
      "inserting 1000 rows into reviews\n",
      "inserting 601 rows into reviews\n"
     ]
    }
   ],
   "source": [
    "table = 'reviews'\n",
    "df = pd.read_csv(dir_path + '/reviews.csv', sep=',', header=0, lineterminator='\\n')\n",
    "df_splits = split_dataframe(df, split_size=1000)\n",
    "print(df[:5])\n",
    "\n",
    "for split in df_splits:\n",
    "    rows = split.values.tolist()\n",
    "    print('inserting ' + str(len(rows)) + ' rows into ' + table)\n",
    "\n",
    "    with database.batch() as batch:\n",
    "        batch.insert(\n",
    "            table=table,\n",
    "            columns=('app_id', 'author', 'rating', 'posted_at'),\n",
    "            values=rows\n",
    "        )"
   ]
  },
  {
   "cell_type": "code",
   "execution_count": 26,
   "metadata": {},
   "outputs": [
    {
     "name": "stdout",
     "output_type": "stream",
     "text": [
      "\n",
      "3547\n"
     ]
    }
   ],
   "source": [
    "!{CLI_CONNECT} -e \"select count(*) from apps\""
   ]
  },
  {
   "cell_type": "code",
   "execution_count": 27,
   "metadata": {},
   "outputs": [
    {
     "name": "stdout",
     "output_type": "stream",
     "text": [
      "\n",
      "5383\n"
     ]
    }
   ],
   "source": [
    "!{CLI_CONNECT} -e \"select count(*) from apps_categories\""
   ]
  },
  {
   "cell_type": "code",
   "execution_count": 28,
   "metadata": {},
   "outputs": [
    {
     "name": "stdout",
     "output_type": "stream",
     "text": [
      "\n",
      "12\n"
     ]
    }
   ],
   "source": [
    "!{CLI_CONNECT} -e \"select count(*) from categories\""
   ]
  },
  {
   "cell_type": "code",
   "execution_count": 29,
   "metadata": {},
   "outputs": [
    {
     "name": "stdout",
     "output_type": "stream",
     "text": [
      "\n",
      "9541\n"
     ]
    }
   ],
   "source": [
    "!{CLI_CONNECT} -e \"select count(*) from key_benefits\""
   ]
  },
  {
   "cell_type": "code",
   "execution_count": 30,
   "metadata": {},
   "outputs": [
    {
     "name": "stdout",
     "output_type": "stream",
     "text": [
      "\n",
      "6275\n"
     ]
    }
   ],
   "source": [
    "!{CLI_CONNECT} -e \"select count(*) from pricing_plans\""
   ]
  },
  {
   "cell_type": "code",
   "execution_count": 31,
   "metadata": {},
   "outputs": [
    {
     "name": "stdout",
     "output_type": "stream",
     "text": [
      "\n",
      "16270\n"
     ]
    }
   ],
   "source": [
    "!{CLI_CONNECT} -e \"select count(*) from pricing_plan_features\""
   ]
  },
  {
   "cell_type": "code",
   "execution_count": 32,
   "metadata": {},
   "outputs": [
    {
     "name": "stdout",
     "output_type": "stream",
     "text": [
      "1 apps record(s) inserted.\n",
      "1 apps_categories record(s) inserted.\n",
      "1 key_benefits record(s) inserted.\n",
      "1 pricing_plans record(s) inserted.\n",
      "1 pricing_plan_features record(s) inserted.\n"
     ]
    }
   ],
   "source": [
    "def insert_app(transaction):\n",
    "\n",
    "    row_ct = transaction.execute_update(\n",
    "        \"INSERT INTO apps (id, url, title, developer, developer_link, icon, reviews_count) \"\n",
    "        \"VALUES ('683d06af-14c7-4733-9bde-ec5b699af996', \"\n",
    "          \"'https://apps.shopify.com/watchlist?surface_detail=inventory-management&surface_inter_position=1&surface_intra_position=9&surface_type=category',\" \n",
    "          \"'Back in Stock Product Alerts', \"\n",
    "          \"'Swym Corporation', \"\n",
    "          \"'https://apps.shopify.com/partners/developer-ca6a967f09890f68',\"\n",
    "          \"'https://apps.shopifycdn.com/listing_images/9905a4c8f22cb4a3b0c32af55a58ec21/icon/e6d46a7e5e1df375d542d033aae80459.png?height=72&width=72',\"\n",
    "           \"0)\"\n",
    "    )\n",
    "    \n",
    "    print(\"{} apps record(s) inserted.\".format(row_ct))\n",
    "    \n",
    "    row_ct = transaction.execute_update(\n",
    "        \"INSERT INTO apps_categories (app_id, category_id) \"\n",
    "        \"VALUES ('683d06af-14c7-4733-9bde-ec5b699af996', '737ad50051083aa051d127a53b3ac0da')\"\n",
    "    )\n",
    "    \n",
    "    print(\"{} apps_categories record(s) inserted.\".format(row_ct))\n",
    "    \n",
    "    \n",
    "    row_ct = transaction.execute_update(\n",
    "        \"INSERT INTO key_benefits (app_id, title, description) \"\n",
    "        \"VALUES ('683d06af-14c7-4733-9bde-ec5b699af996', \"\n",
    "          \"'Drive Back In Stock Sales', 'Back in stock, out of stock, pre order & restock alerts')\"\n",
    "    )\n",
    "    \n",
    "    print(\"{} key_benefits record(s) inserted.\".format(row_ct))\n",
    "    \n",
    "    row_ct = transaction.execute_update(\n",
    "        \"INSERT INTO pricing_plans (id, app_id, title, price) \"\n",
    "        \"VALUES ('961a2751-1dbd-4f0f-8248-9fe6a6efd4ab', '683d06af-14c7-4733-9bde-ec5b699af996', \"\n",
    "                \"'Free Trial', 14.99)\"\n",
    "    )\n",
    "    \n",
    "    print(\"{} pricing_plans record(s) inserted.\".format(row_ct))\n",
    "    \n",
    "\n",
    "    row_ct = transaction.execute_update(\n",
    "        \"INSERT INTO pricing_plan_features (app_id, pricing_plan_id, feature) \"\n",
    "        \" VALUES ('683d06af-14c7-4733-9bde-ec5b699af996', '961a2751-1dbd-4f0f-8248-9fe6a6efd4ab', \"\n",
    "                 \"'Up to 250 alert requests/mo')\"\n",
    "    )\n",
    "    \n",
    "    print(\"{} pricing_plan_features record(s) inserted.\".format(row_ct))\n",
    "      \n",
    "database.run_in_transaction(insert_app)"
   ]
  },
  {
   "cell_type": "code",
   "execution_count": 33,
   "metadata": {},
   "outputs": [
    {
     "name": "stdout",
     "output_type": "stream",
     "text": [
      "4780 pricing_plans record(s) updated.\n"
     ]
    }
   ],
   "source": [
    "def update_price(transaction):\n",
    "    row_ct = transaction.execute_update(\n",
    "            \"UPDATE pricing_plans \"\n",
    "            \"SET price = price / 2 \"\n",
    "            \"WHERE price > 0\"\n",
    "        )\n",
    "\n",
    "    print(\"{} pricing_plans record(s) updated.\".format(row_ct))\n",
    "\n",
    "database.run_in_transaction(update_price)"
   ]
  },
  {
   "cell_type": "code",
   "execution_count": 34,
   "metadata": {},
   "outputs": [
    {
     "name": "stdout",
     "output_type": "stream",
     "text": [
      "1 apps record(s) deleted.\n",
      "1 apps_categories record(s) deleted.\n",
      "1 key_benefits record(s) deleted.\n",
      "1 pricing_plans record(s) deleted.\n",
      "1 pricing_plan_features record(s) deleted.\n"
     ]
    }
   ],
   "source": [
    "def delete_app(transaction):\n",
    "        row_ct = transaction.execute_update(\n",
    "            \"DELETE FROM apps WHERE id = '683d06af-14c7-4733-9bde-ec5b699af996'\"\n",
    "        )\n",
    "\n",
    "        print(\"{} apps record(s) deleted.\".format(row_ct))\n",
    "        \n",
    "        row_ct = transaction.execute_update(\n",
    "            \"DELETE FROM apps_categories WHERE app_id = '683d06af-14c7-4733-9bde-ec5b699af996'\"\n",
    "        )\n",
    "        \n",
    "        print(\"{} apps_categories record(s) deleted.\".format(row_ct))\n",
    "        \n",
    "        row_ct = transaction.execute_update(\n",
    "            \"DELETE FROM key_benefits WHERE app_id = '683d06af-14c7-4733-9bde-ec5b699af996'\"\n",
    "        )\n",
    "        \n",
    "        print(\"{} key_benefits record(s) deleted.\".format(row_ct)) \n",
    "        \n",
    "        \n",
    "        row_ct = transaction.execute_update(\n",
    "            \"DELETE FROM pricing_plans WHERE app_id = '683d06af-14c7-4733-9bde-ec5b699af996'\"\n",
    "        )\n",
    "        \n",
    "        print(\"{} pricing_plans record(s) deleted.\".format(row_ct)) \n",
    "        \n",
    "        \n",
    "        row_ct = transaction.execute_update(\n",
    "            \"DELETE FROM pricing_plan_features WHERE app_id = '683d06af-14c7-4733-9bde-ec5b699af996'\"\n",
    "        )\n",
    "        \n",
    "        print(\"{} pricing_plan_features record(s) deleted.\".format(row_ct))\n",
    "\n",
    "database.run_in_transaction(delete_app)"
   ]
  },
  {
   "cell_type": "code",
   "execution_count": 35,
   "metadata": {},
   "outputs": [],
   "source": [
    "!{CLI_CONNECT} -e \"ALTER TABLE apps_categories \\\n",
    "  ADD CONSTRAINT apps_cat_app_id_fk FOREIGN KEY (app_id) REFERENCES apps (id)\""
   ]
  },
  {
   "cell_type": "code",
   "execution_count": 36,
   "metadata": {},
   "outputs": [
    {
     "name": "stdout",
     "output_type": "stream",
     "text": [
      "Table\tCreate Table\n",
      "apps_categories\tCREATE TABLE apps_categories (\n",
      "  app_id STRING(50),\n",
      "  category_id STRING(50),\n",
      "  CONSTRAINT apps_cat_app_id_fk FOREIGN KEY(app_id) REFERENCES apps(id),\n",
      ") PRIMARY KEY(app_id, category_id)\n"
     ]
    }
   ],
   "source": [
    "!{CLI_CONNECT} -e \"show create table apps_categories\""
   ]
  },
  {
   "cell_type": "code",
   "execution_count": 37,
   "metadata": {},
   "outputs": [],
   "source": [
    "!{CLI_CONNECT} -e \"CREATE INDEX apps_rating_idx ON apps(rating)\""
   ]
  },
  {
   "cell_type": "markdown",
   "metadata": {},
   "source": [
    "### begin project 3 work"
   ]
  },
  {
   "cell_type": "code",
   "execution_count": 38,
   "metadata": {},
   "outputs": [
    {
     "name": "stdout",
     "output_type": "stream",
     "text": [
      "\n",
      "124601\n"
     ]
    }
   ],
   "source": [
    "!{CLI_CONNECT} -e \"select count(*) from reviews\""
   ]
  },
  {
   "cell_type": "code",
   "execution_count": 39,
   "metadata": {},
   "outputs": [
    {
     "name": "stdout",
     "output_type": "stream",
     "text": [
      "                                      0                1  2           3\n",
      "0  6286d4cd-3fcb-4ee3-bb3c-de051c28b83c  Homer Simpson 0  1  2021-09-20\n",
      "1  6286d4cd-3fcb-4ee3-bb3c-de051c28b83c  Homer Simpson 1  2  2021-09-20\n",
      "2  6286d4cd-3fcb-4ee3-bb3c-de051c28b83c  Homer Simpson 2  2  2021-09-20\n",
      "3  6286d4cd-3fcb-4ee3-bb3c-de051c28b83c  Homer Simpson 3  3  2021-09-20\n",
      "4  6286d4cd-3fcb-4ee3-bb3c-de051c28b83c  Homer Simpson 4  1  2021-09-20\n",
      "inserting 1000 rows into reviews\n",
      "inserting 1000 rows into reviews\n",
      "inserting 1000 rows into reviews\n",
      "inserting 1000 rows into reviews\n",
      "inserting 1000 rows into reviews\n",
      "inserting 1000 rows into reviews\n",
      "inserting 1000 rows into reviews\n",
      "inserting 1000 rows into reviews\n",
      "inserting 1000 rows into reviews\n",
      "inserting 1000 rows into reviews\n",
      "inserting 1000 rows into reviews\n",
      "inserting 1000 rows into reviews\n",
      "inserting 1000 rows into reviews\n",
      "inserting 1000 rows into reviews\n",
      "inserting 1000 rows into reviews\n",
      "inserting 1000 rows into reviews\n",
      "inserting 1000 rows into reviews\n",
      "inserting 1000 rows into reviews\n",
      "inserting 1000 rows into reviews\n",
      "inserting 1000 rows into reviews\n",
      "inserting 1000 rows into reviews\n",
      "inserting 1000 rows into reviews\n",
      "inserting 1000 rows into reviews\n",
      "inserting 1000 rows into reviews\n",
      "inserting 1000 rows into reviews\n",
      "inserting 1000 rows into reviews\n",
      "inserting 1000 rows into reviews\n",
      "inserting 1000 rows into reviews\n",
      "inserting 1000 rows into reviews\n",
      "inserting 1000 rows into reviews\n",
      "inserting 1000 rows into reviews\n",
      "inserting 1000 rows into reviews\n",
      "inserting 1000 rows into reviews\n",
      "inserting 1000 rows into reviews\n",
      "inserting 1000 rows into reviews\n",
      "inserting 1000 rows into reviews\n",
      "inserting 1000 rows into reviews\n",
      "inserting 1000 rows into reviews\n",
      "inserting 1000 rows into reviews\n",
      "inserting 1000 rows into reviews\n",
      "inserting 1000 rows into reviews\n",
      "inserting 1000 rows into reviews\n",
      "inserting 1000 rows into reviews\n",
      "inserting 1000 rows into reviews\n",
      "inserting 1000 rows into reviews\n",
      "inserting 1000 rows into reviews\n",
      "inserting 1000 rows into reviews\n",
      "inserting 1000 rows into reviews\n",
      "inserting 1000 rows into reviews\n",
      "inserting 1000 rows into reviews\n",
      "inserting 1000 rows into reviews\n",
      "inserting 1000 rows into reviews\n",
      "inserting 1000 rows into reviews\n",
      "inserting 1000 rows into reviews\n",
      "inserting 1000 rows into reviews\n",
      "inserting 1000 rows into reviews\n",
      "inserting 1000 rows into reviews\n",
      "inserting 1000 rows into reviews\n",
      "inserting 1000 rows into reviews\n",
      "inserting 1000 rows into reviews\n",
      "inserting 1000 rows into reviews\n",
      "inserting 1000 rows into reviews\n",
      "inserting 1000 rows into reviews\n",
      "inserting 1000 rows into reviews\n",
      "inserting 1000 rows into reviews\n",
      "inserting 1000 rows into reviews\n",
      "inserting 1000 rows into reviews\n",
      "inserting 1000 rows into reviews\n",
      "inserting 1000 rows into reviews\n",
      "inserting 1000 rows into reviews\n",
      "inserting 1000 rows into reviews\n",
      "inserting 1000 rows into reviews\n",
      "inserting 1000 rows into reviews\n",
      "inserting 1000 rows into reviews\n",
      "inserting 1000 rows into reviews\n",
      "inserting 1000 rows into reviews\n",
      "inserting 1000 rows into reviews\n",
      "inserting 1000 rows into reviews\n",
      "inserting 1000 rows into reviews\n",
      "inserting 1000 rows into reviews\n",
      "inserting 1000 rows into reviews\n",
      "inserting 1000 rows into reviews\n",
      "inserting 1000 rows into reviews\n",
      "inserting 1000 rows into reviews\n",
      "inserting 1000 rows into reviews\n",
      "inserting 1000 rows into reviews\n",
      "inserting 1000 rows into reviews\n",
      "inserting 1000 rows into reviews\n",
      "inserting 1000 rows into reviews\n",
      "inserting 1000 rows into reviews\n",
      "inserting 1000 rows into reviews\n",
      "inserting 1000 rows into reviews\n",
      "inserting 1000 rows into reviews\n",
      "inserting 1000 rows into reviews\n",
      "inserting 1000 rows into reviews\n",
      "inserting 1000 rows into reviews\n",
      "inserting 1000 rows into reviews\n",
      "inserting 1000 rows into reviews\n",
      "inserting 1000 rows into reviews\n",
      "inserting 1000 rows into reviews\n"
     ]
    }
   ],
   "source": [
    "# Add 100,000 fake reviews to the reviews tables\n",
    "from numpy import random\n",
    "fakey = [[\"6286d4cd-3fcb-4ee3-bb3c-de051c28b83c\", \"Homer Simpson \" + str(i), random.randint(5), \"2021-09-20\"] for i in range(100000)]\n",
    "df = pd.DataFrame(fakey)\n",
    "print(df[:5])\n",
    "\n",
    "table = 'reviews'\n",
    "\n",
    "df_splits = split_dataframe(df, split_size=1000)\n",
    "for split in df_splits:\n",
    "    rows = split.values.tolist()\n",
    "    print('inserting ' + str(len(rows)) + ' rows into ' + table)\n",
    "\n",
    "    with database.batch() as batch:\n",
    "        batch.insert(\n",
    "            table=table,\n",
    "            columns=('app_id', 'author', 'rating', 'posted_at'),\n",
    "            values=rows\n",
    "        )"
   ]
  },
  {
   "cell_type": "code",
   "execution_count": 40,
   "metadata": {},
   "outputs": [
    {
     "name": "stdout",
     "output_type": "stream",
     "text": [
      "1 apps record(s) updated.\n",
      "1 apps record(s) updated.\n"
     ]
    }
   ],
   "source": [
    "from statistics import mean\n",
    "\n",
    "def update_apps(transaction):\n",
    "    \n",
    "    avg = sum(df[:][2].to_numpy()) / 100000\n",
    "    # avg = 2.00136\n",
    "    \n",
    "    row_ct = transaction.execute_update(\n",
    "            \"UPDATE apps \"\n",
    "            \"SET rating = 2.00136 \"\n",
    "            \"WHERE id = '6286d4cd-3fcb-4ee3-bb3c-de051c28b83c'\"\n",
    "    )\n",
    "    \n",
    "    print(\"{} apps record(s) updated.\".format(row_ct))\n",
    "    \n",
    "    row_ct = transaction.execute_update(\n",
    "            \"UPDATE apps \"\n",
    "            \"SET reviews_count = 100000 \"\n",
    "            \"WHERE id = '6286d4cd-3fcb-4ee3-bb3c-de051c28b83c'\"\n",
    "    )\n",
    "    \n",
    "    print(\"{} apps record(s) updated.\".format(row_ct))\n",
    "\n",
    "\n",
    "database.run_in_transaction(update_apps)"
   ]
  },
  {
   "cell_type": "code",
   "execution_count": 41,
   "metadata": {},
   "outputs": [],
   "source": [
    "!{CLI_CONNECT} -e \"CREATE INDEX reivews_author_idx ON reviews(author)\"\n",
    "# added index to author column on the reviews table, CPU time: 15.74 ms > 14.85 ms"
   ]
  },
  {
   "cell_type": "code",
   "execution_count": 43,
   "metadata": {},
   "outputs": [
    {
     "name": "stdout",
     "output_type": "stream",
     "text": [
      "ERROR: rpc error: code = FailedPrecondition desc = Found uniqueness violation: [Advanced Cash on Delivery,d3198eb7-9077-4f82-a9bf-259925187298] [Advanced Cash on Delivery,f64300ac-c011-4eaa-be69-a6a949950c42].\n"
     ]
    }
   ],
   "source": [
    "!{CLI_CONNECT} -e \"ALTER TABLE key_benefits \\\n",
    "  ADD CONSTRAINT apps_title_kb_title_fk FOREIGN KEY (title) REFERENCES apps (title)\""
   ]
  },
  {
   "cell_type": "code",
   "execution_count": null,
   "metadata": {},
   "outputs": [],
   "source": [
    "!{CLI_CONNECT} -e \"ALTER TABLE apps_categories \\\n",
    "  ADD CONSTRAINT apps_cat_app_id_fk FOREIGN KEY (app_id) REFERENCES apps (id)\""
   ]
  },
  {
   "cell_type": "code",
   "execution_count": null,
   "metadata": {},
   "outputs": [],
   "source": [
    "!{CLI_CONNECT} -e \"ALTER TABLE apps_categories \\\n",
    "  ADD CONSTRAINT apps_cat_app_id_fk FOREIGN KEY (app_id) REFERENCES apps (id)\""
   ]
  },
  {
   "cell_type": "code",
   "execution_count": null,
   "metadata": {},
   "outputs": [],
   "source": [
    "!{CLI_CONNECT} -e \"ALTER TABLE apps_categories \\\n",
    "  ADD CONSTRAINT apps_cat_app_id_fk FOREIGN KEY (app_id) REFERENCES apps (id)\""
   ]
  },
  {
   "cell_type": "code",
   "execution_count": null,
   "metadata": {},
   "outputs": [],
   "source": [
    "!{CLI_CONNECT} -e \"ALTER TABLE apps_categories \\\n",
    "  ADD CONSTRAINT apps_cat_app_id_fk FOREIGN KEY (app_id) REFERENCES apps (id)\""
   ]
  },
  {
   "cell_type": "code",
   "execution_count": null,
   "metadata": {},
   "outputs": [],
   "source": [
    "!{CLI_CONNECT} -e \"ALTER TABLE apps_categories \\\n",
    "  ADD CONSTRAINT apps_cat_app_id_fk FOREIGN KEY (app_id) REFERENCES apps (id)\""
   ]
  },
  {
   "cell_type": "code",
   "execution_count": null,
   "metadata": {},
   "outputs": [],
   "source": [
    "!{CLI_CONNECT} -e \"ALTER TABLE apps_categories \\\n",
    "  ADD CONSTRAINT apps_cat_app_id_fk FOREIGN KEY (app_id) REFERENCES apps (id)\""
   ]
  },
  {
   "cell_type": "code",
   "execution_count": null,
   "metadata": {},
   "outputs": [],
   "source": [
    "!{CLI_CONNECT} -e \"ALTER TABLE apps_categories \\\n",
    "  ADD CONSTRAINT apps_cat_app_id_fk FOREIGN KEY (app_id) REFERENCES apps (id)\""
   ]
  },
  {
   "cell_type": "code",
   "execution_count": null,
   "metadata": {},
   "outputs": [],
   "source": [
    "!{CLI_CONNECT} -e \"ALTER TABLE apps_categories \\\n",
    "  ADD CONSTRAINT apps_cat_app_id_fk FOREIGN KEY (app_id) REFERENCES apps (id)\""
   ]
  }
 ],
 "metadata": {
  "environment": {
   "name": "common-cpu.m79",
   "type": "gcloud",
   "uri": "gcr.io/deeplearning-platform-release/base-cpu:m79"
  },
  "kernelspec": {
   "display_name": "Python 3",
   "language": "python",
   "name": "python3"
  },
  "language_info": {
   "codemirror_mode": {
    "name": "ipython",
    "version": 3
   },
   "file_extension": ".py",
   "mimetype": "text/x-python",
   "name": "python",
   "nbconvert_exporter": "python",
   "pygments_lexer": "ipython3",
   "version": "3.7.10"
  }
 },
 "nbformat": 4,
 "nbformat_minor": 4
}
