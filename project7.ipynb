{
 "cells": [
  {
   "cell_type": "code",
   "execution_count": 106,
   "id": "0ec9a1b2",
   "metadata": {},
   "outputs": [
    {
     "name": "stdout",
     "output_type": "stream",
     "text": [
      "env: CYPHER=/home/jupyter/neo4j-community-4.3.3/bin/cypher-shell\n",
      "env: USER=neo4j\n",
      "env: PW=matrix\n"
     ]
    }
   ],
   "source": [
    "%env CYPHER=/home/jupyter/neo4j-community-4.3.3/bin/cypher-shell\n",
    "%env USER=neo4j\n",
    "%env PW=matrix"
   ]
  },
  {
   "cell_type": "code",
   "execution_count": 107,
   "id": "5b626d73",
   "metadata": {},
   "outputs": [],
   "source": [
    "CONNECT=\"$CYPHER -u $USER -p $PW\""
   ]
  },
  {
   "cell_type": "code",
   "execution_count": 108,
   "id": "47c4dc2e",
   "metadata": {},
   "outputs": [
    {
     "name": "stdout",
     "output_type": "stream",
     "text": [
      "0 rows\n",
      "ready to start consuming query after 64 ms, results consumed after another 0 ms\n"
     ]
    }
   ],
   "source": [
    "!{CONNECT} \"MATCH (n) DETACH DELETE n\""
   ]
  },
  {
   "cell_type": "code",
   "execution_count": 109,
   "id": "24bf0ccf",
   "metadata": {},
   "outputs": [
    {
     "name": "stdout",
     "output_type": "stream",
     "text": [
      "COUNT(l)\n",
      "5835\n",
      "COUNT(a)\n",
      "42\n",
      "COUNT(n)\n",
      "41\n",
      "COUNT(h)\n",
      "4633\n",
      "COUNT(u)\n",
      "55917\n",
      "COUNT(r)\n",
      "62976\n"
     ]
    }
   ],
   "source": [
    "!cat /home/jupyter/airbnb/load_data.cypher | {CONNECT} --format plain"
   ]
  },
  {
   "cell_type": "code",
   "execution_count": 204,
   "id": "17ea2af6",
   "metadata": {},
   "outputs": [
    {
     "name": "stdout",
     "output_type": "stream",
     "text": [
      "+----------+\n",
      "| count(n) |\n",
      "+----------+\n",
      "| 129444   |\n",
      "+----------+\n",
      "\n",
      "1 row\n",
      "ready to start consuming query after 12 ms, results consumed after another 0 ms\n"
     ]
    }
   ],
   "source": [
    "!{CONNECT} \"MATCH (n) RETURN count(n)\""
   ]
  },
  {
   "cell_type": "code",
   "execution_count": 111,
   "id": "4f4fb6d9",
   "metadata": {},
   "outputs": [
    {
     "name": "stdout",
     "output_type": "stream",
     "text": [
      "+-----------------------------+\n",
      "| labels(n)        | count(n) |\n",
      "+-----------------------------+\n",
      "| [\"Listing\"]      | 5835     |\n",
      "| [\"Amenity\"]      | 42       |\n",
      "| [\"Neighborhood\"] | 41       |\n",
      "| [\"Host\"]         | 4633     |\n",
      "| [\"User\"]         | 55917    |\n",
      "| [\"Review\"]       | 62976    |\n",
      "+-----------------------------+\n",
      "\n",
      "6 rows\n",
      "ready to start consuming query after 60 ms, results consumed after another 146 ms\n"
     ]
    }
   ],
   "source": [
    "!{CONNECT} \"MATCH (n) RETURN distinct labels(n), count(n)\""
   ]
  },
  {
   "cell_type": "code",
   "execution_count": 112,
   "id": "45130a34",
   "metadata": {},
   "outputs": [
    {
     "name": "stdout",
     "output_type": "stream",
     "text": [
      "+-----------------------------------------------------------------------------------------------------------------------------------------------------------------------------------------------------------------------+\n",
      "| n                                                                                                                                                                                                                     |\n",
      "+-----------------------------------------------------------------------------------------------------------------------------------------------------------------------------------------------------------------------+\n",
      "| (:Listing {bedrooms: 1, listing_id: \"72635\", availability_365: 240, price: 300.0, accommodates: 6, name: \"3 Private Bedrooms, SW Austin\", property_type: \"House\", bathrooms: 2})                                      |\n",
      "| (:Listing {bedrooms: 1, cleaning_fee: 75.0, weekly_price: 600.0, listing_id: \"5386323\", availability_365: 364, price: 99.0, accommodates: 2, name: \"Cricket Trailer\", property_type: \"Camper/RV\", bathrooms: 0})      |\n",
      "| (:Listing {bedrooms: 1, listing_id: \"8826517\", availability_365: 365, price: 100.0, accommodates: 2, name: \"Private room 1 in South Austin\", property_type: \"House\", bathrooms: 1})                                   |\n",
      "| (:Listing {bedrooms: 1, listing_id: \"8828616\", availability_365: 365, price: 100.0, accommodates: 2, name: \"Private room 2 in South Austin\", property_type: \"House\", bathrooms: 1})                                   |\n",
      "| (:Listing {bedrooms: 3, cleaning_fee: 125.0, listing_id: \"8536913\", availability_365: 358, price: 599.0, accommodates: 6, name: \"Brand-New 3BR Austin Home\", property_type: \"House\", bathrooms: 2})                   |\n",
      "| (:Listing {bedrooms: 1, listing_id: \"8542056\", availability_365: 365, price: 100.0, accommodates: 2, name: \"Private room & Bathroom.\", property_type: \"House\", bathrooms: 1})                                         |\n",
      "| (:Listing {bedrooms: 1, cleaning_fee: 15.0, listing_id: \"6385948\", availability_365: 301, price: 54.0, accommodates: 2, name: \"S. Austin, convenient to MoPac\", property_type: \"Bed & Breakfast\", bathrooms: 1})      |\n",
      "| (:Listing {bedrooms: 1, cleaning_fee: 25.0, listing_id: \"8486890\", availability_365: 312, price: 40.0, accommodates: 2, name: \"Cozy private room 15 mins frm dtwn\", property_type: \"House\", bathrooms: 1})            |\n",
      "| (:Listing {bedrooms: 1, weekly_price: 750.0, listing_id: \"8633580\", availability_365: 355, price: 130.0, accommodates: 6, name: \"Room to rent\", property_type: \"House\", bathrooms: 1})                                |\n",
      "| (:Listing {bedrooms: 1, cleaning_fee: 10.0, weekly_price: 275.0, listing_id: \"5293632\", availability_365: 364, price: 44.0, accommodates: 2, name: \"Southwest Austin Retreat\", property_type: \"House\", bathrooms: 1}) |\n",
      "+-----------------------------------------------------------------------------------------------------------------------------------------------------------------------------------------------------------------------+\n",
      "\n",
      "10 rows\n",
      "ready to start consuming query after 16 ms, results consumed after another 2 ms\n"
     ]
    }
   ],
   "source": [
    "!{CONNECT} \"MATCH (n) RETURN n LIMIT 10\""
   ]
  },
  {
   "cell_type": "code",
   "execution_count": 128,
   "id": "eb151dc2",
   "metadata": {},
   "outputs": [
    {
     "name": "stdout",
     "output_type": "stream",
     "text": [
      "+-------------------+\n",
      "| type(r)           |\n",
      "+-------------------+\n",
      "| \"IN_NEIGHBORHOOD\" |\n",
      "| \"HAS\"             |\n",
      "| \"HAS\"             |\n",
      "| \"HAS\"             |\n",
      "| \"HAS\"             |\n",
      "| \"HAS\"             |\n",
      "| \"HAS\"             |\n",
      "| \"HAS\"             |\n",
      "| \"HAS\"             |\n",
      "| \"HAS\"             |\n",
      "+-------------------+\n",
      "\n",
      "10 rows\n",
      "ready to start consuming query after 254 ms, results consumed after another 30 ms\n"
     ]
    }
   ],
   "source": [
    "!{CONNECT} \"MATCH ()-[r]->() RETURN type(r) LIMIT 10\""
   ]
  },
  {
   "cell_type": "code",
   "execution_count": 114,
   "id": "cddc201a",
   "metadata": {},
   "outputs": [
    {
     "name": "stdout",
     "output_type": "stream",
     "text": [
      "+----------+\n",
      "| count(h) |\n",
      "+----------+\n",
      "| 3774     |\n",
      "+----------+\n",
      "\n",
      "1 row\n",
      "ready to start consuming query after 37 ms, results consumed after another 180 ms\n"
     ]
    }
   ],
   "source": [
    "!{CONNECT} \"MATCH (h:Host {{location: 'Austin, Texas, United States'}}) RETURN count(h)\""
   ]
  },
  {
   "cell_type": "code",
   "execution_count": 115,
   "id": "26ec1cf5",
   "metadata": {},
   "outputs": [
    {
     "name": "stdout",
     "output_type": "stream",
     "text": [
      "+----------------------------------------------------------------------------------------+\n",
      "| l.name                                | l.property_type | l.price | l.availability_365 |\n",
      "+----------------------------------------------------------------------------------------+\n",
      "| \"1BR Convenient Austin Condo \"        | \"Apartment\"     | 93.0    | 354                |\n",
      "| \"1BR Inviting Downtown Condo, Pool\"   | \"Apartment\"     | 99.0    | 335                |\n",
      "| \"2BR/1.5BA Charming House Off SoCo\"   | \"House\"         | 110.0   | 357                |\n",
      "| \"2BR Prime East-Side Downtown\"        | \"House\"         | 121.0   | 341                |\n",
      "| \"1BR SoCo Treehouse Studio\"           | \"House\"         | 129.0   | 327                |\n",
      "| \"1BR/1.5BA East 6th, Colorful 2Story\" | \"Apartment\"     | 134.0   | 344                |\n",
      "| \"3BR Prestigious Home Travis Heights\" | \"House\"         | 138.0   | 0                  |\n",
      "| \"1BR/1.5BA Perfectly Located Casita\"  | \"House\"         | 140.0   | 351                |\n",
      "| \"3BR/2BA Inviting Retreat off SoCo\"   | \"House\"         | 145.0   | 353                |\n",
      "| \"2BR/2BA Austin Soul Off Soco!\"       | \"House\"         | 149.0   | 334                |\n",
      "+----------------------------------------------------------------------------------------+\n",
      "\n",
      "10 rows\n",
      "ready to start consuming query after 63 ms, results consumed after another 11 ms\n"
     ]
    }
   ],
   "source": [
    "!{CONNECT} \"MATCH (:Host {{host_id: '4641823'}})-[]->(l:Listing) RETURN l.name, l.property_type, l.price, l.availability_365 ORDER BY l.price LIMIT 10\""
   ]
  },
  {
   "cell_type": "code",
   "execution_count": 120,
   "id": "58fb271b",
   "metadata": {},
   "outputs": [
    {
     "name": "stdout",
     "output_type": "stream",
     "text": [
      "+--------------------------------+\n",
      "| u.user_id  | u.name            |\n",
      "+--------------------------------+\n",
      "| \"18286390\" | \"Annie\"           |\n",
      "| \"30193020\" | \"Carole\"          |\n",
      "| \"16497582\" | \"Cory\"            |\n",
      "| \"35022795\" | \"Craig And Trina\" |\n",
      "| \"13281665\" | \"Dianne\"          |\n",
      "| \"29601600\" | \"Hannah\"          |\n",
      "| \"11940539\" | \"Jacob\"           |\n",
      "| \"3213433\"  | \"Jessie\"          |\n",
      "| \"41722221\" | \"Johannes\"        |\n",
      "| \"28480571\" | \"Ju-Ju\"           |\n",
      "+--------------------------------+\n",
      "\n",
      "10 rows\n",
      "ready to start consuming query after 3 ms, results consumed after another 968 ms\n"
     ]
    }
   ],
   "source": [
    "!{CONNECT} \"MATCH (u:User)-[*]->(:Listing {{listing_id: '5293632'}}) RETURN u.user_id, u.name ORDER BY u.name LIMIT 10\""
   ]
  },
  {
   "cell_type": "code",
   "execution_count": 214,
   "id": "1bed10b1",
   "metadata": {},
   "outputs": [
    {
     "name": "stdout",
     "output_type": "stream",
     "text": [
      "+-----------------------+\n",
      "| u.user_id | u.name    |\n",
      "+-----------------------+\n",
      "| \"1627563\" | \"Andrew\"  |\n",
      "| \"1631432\" | \"Bryan\"   |\n",
      "| \"2784203\" | \"Cindy\"   |\n",
      "| \"416470\"  | \"Henrik\"  |\n",
      "| \"386269\"  | \"Scott\"   |\n",
      "| \"430392\"  | \"Thaniya\" |\n",
      "| \"316879\"  | \"Warren\"  |\n",
      "+-----------------------+\n",
      "\n",
      "7 rows\n",
      "ready to start consuming query after 13 ms, results consumed after another 2583 ms\n"
     ]
    }
   ],
   "source": [
    "!{CONNECT} \"MATCH (:Listing)-->(:Amenity {{name: 'Washer / Dryer'}})<-[*]-(u:User) RETURN DISTINCT u.user_id, u.name ORDER BY u.name LIMIT 10\""
   ]
  },
  {
   "cell_type": "code",
   "execution_count": 213,
   "id": "df3d0a81",
   "metadata": {},
   "outputs": [
    {
     "name": "stdout",
     "output_type": "stream",
     "text": [
      "+----------------------------------------------------------------------------------------+\n",
      "| l.name                                | l.property_type | l.price | l.availability_365 |\n",
      "+----------------------------------------------------------------------------------------+\n",
      "| \"3BR/2.5BA Exquisite Townhouse\"       | \"House\"         | 222.0   | 358                |\n",
      "| \"3BR/2.5BA Tarrytown Duplex, Austin!\" | \"House\"         | 249.0   | 336                |\n",
      "| \"Austin downtown hideaway\"            | \"House\"         | 249.0   | 364                |\n",
      "| \"3BD Luxury Cottage by Lake Austin\"   | \"House\"         | 290.0   | 309                |\n",
      "| \"Entire Adorable Downtown House\"      | \"House\"         | 295.0   | 309                |\n",
      "+----------------------------------------------------------------------------------------+\n",
      "\n",
      "5 rows\n",
      "ready to start consuming query after 2 ms, results consumed after another 41 ms\n"
     ]
    }
   ],
   "source": [
    "!{CONNECT} \"MATCH (l:Listing {{bedrooms: 3}})-[]->(n:Neighborhood {{name: 'Clarksville'}}) RETURN l.name, l.property_type, l.price, l.availability_365 ORDER BY l.price LIMIT 5\""
   ]
  },
  {
   "cell_type": "code",
   "execution_count": 202,
   "id": "a45b8cef",
   "metadata": {},
   "outputs": [
    {
     "name": "stdout",
     "output_type": "stream",
     "text": [
      "+----------------------------------------+\n",
      "| a.name                     | frequency |\n",
      "+----------------------------------------+\n",
      "| \"Air Conditioning\"         | 5615      |\n",
      "| \"Wireless Internet\"        | 5479      |\n",
      "| \"Heating\"                  | 5440      |\n",
      "| \"Kitchen\"                  | 5400      |\n",
      "| \"Free Parking on Premises\" | 5123      |\n",
      "+----------------------------------------+\n",
      "\n",
      "5 rows\n",
      "ready to start consuming query after 2 ms, results consumed after another 131 ms\n"
     ]
    }
   ],
   "source": [
    "!{CONNECT} \"MATCH (:Listing)-->(a:Amenity) RETURN a.name, count(a.name) as frequency ORDER BY frequency DESC LIMIT 5\""
   ]
  },
  {
   "cell_type": "code",
   "execution_count": 211,
   "id": "87da6b13",
   "metadata": {},
   "outputs": [
    {
     "name": "stdout",
     "output_type": "stream",
     "text": [
      "+----------------------------------------+\n",
      "| n.name           | zip_code | listings |\n",
      "+----------------------------------------+\n",
      "| NULL             | \"78704\"  | 1601     |\n",
      "| NULL             | \"78702\"  | 797      |\n",
      "| \"Clarksville\"    | \"78703\"  | 419      |\n",
      "| \"East Riverside\" | \"78741\"  | 414      |\n",
      "| NULL             | \"78745\"  | 328      |\n",
      "+----------------------------------------+\n",
      "\n",
      "5 rows\n",
      "ready to start consuming query after 27 ms, results consumed after another 48 ms\n"
     ]
    }
   ],
   "source": [
    "!{CONNECT} \"MATCH (n:Neighborhood)<--(l:Listing) RETURN n.name, n.neighborhood_id as zip_code, count(l.listing_id) as listings ORDER BY listings DESC LIMIT 5\""
   ]
  }
 ],
 "metadata": {
  "environment": {
   "name": "common-cpu.m79",
   "type": "gcloud",
   "uri": "gcr.io/deeplearning-platform-release/base-cpu:m79"
  },
  "kernelspec": {
   "display_name": "Python 3",
   "language": "python",
   "name": "python3"
  },
  "language_info": {
   "codemirror_mode": {
    "name": "ipython",
    "version": 3
   },
   "file_extension": ".py",
   "mimetype": "text/x-python",
   "name": "python",
   "nbconvert_exporter": "python",
   "pygments_lexer": "ipython3",
   "version": "3.7.10"
  }
 },
 "nbformat": 4,
 "nbformat_minor": 5
}
