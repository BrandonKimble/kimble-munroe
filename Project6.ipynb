{
 "cells": [
  {
   "cell_type": "code",
   "execution_count": 20,
   "id": "7c809127",
   "metadata": {},
   "outputs": [
    {
     "name": "stdout",
     "output_type": "stream",
     "text": [
      "309370\n"
     ]
    }
   ],
   "source": [
    "!mongo open_food --quiet --eval 'db.products.count()'"
   ]
  },
  {
   "cell_type": "code",
   "execution_count": 22,
   "id": "9c64f438",
   "metadata": {},
   "outputs": [
    {
     "name": "stdout",
     "output_type": "stream",
     "text": [
      "{\n",
      "\t\"_id\" : \"0000790100027\",\n",
      "\t\"product_name\" : \"Sobe, fruit strip snacks, mango, pineapple\"\n",
      "}\n",
      "{ \"_id\" : \"0000790400066\", \"product_name\" : \"Welch's, freeze-dried grapes\" }\n",
      "{\n",
      "\t\"_id\" : \"0000790410003\",\n",
      "\t\"product_name\" : \"Welch's, dried cranberries, concord grape\"\n",
      "}\n",
      "{\n",
      "\t\"_id\" : \"0000790430018\",\n",
      "\t\"product_name\" : \"Welch's, pb&j trail mix, grape\"\n",
      "}\n",
      "{ \"_id\" : \"0000790440024\", \"product_name\" : \"Welch's, golden apple chips\" }\n",
      "{\n",
      "\t\"_id\" : \"0000790400004\",\n",
      "\t\"product_name\" : \"Welch's, freeze-dried apple slices\"\n",
      "}\n",
      "{\n",
      "\t\"_id\" : \"0000790400301\",\n",
      "\t\"product_name\" : \"Welch's, freeze-dried apple slices\"\n",
      "}\n",
      "{\n",
      "\t\"_id\" : \"0000790410027\",\n",
      "\t\"product_name\" : \"Welch's, dried cranberries, blueberry\"\n",
      "}\n",
      "{\n",
      "\t\"_id\" : \"0000790410065\",\n",
      "\t\"product_name\" : \"Welch's, wholesome & delicious dried mangos\"\n",
      "}\n",
      "{\n",
      "\t\"_id\" : \"0000790430063\",\n",
      "\t\"product_name\" : \"Welch's, pb & j trail mix, strawberry\"\n",
      "}\n",
      "{ \"_id\" : \"0000946706004\", \"product_name\" : \"Dehydrated apple slices\" }\n",
      "{\n",
      "\t\"_id\" : \"0011110008565\",\n",
      "\t\"product_name\" : \"Kroger, salted cashews halves & pieces\"\n",
      "}\n",
      "{ \"_id\" : \"0011110022646\", \"product_name\" : \"Praline Pecans\" }\n",
      "{ \"_id\" : \"0011110025005\", \"product_name\" : \"Shelled pistachios\" }\n",
      "{ \"_id\" : \"0010904012719\", \"product_name\" : \"Whiskey Praline Pecans\" }\n",
      "{\n",
      "\t\"_id\" : \"0011110036735\",\n",
      "\t\"product_name\" : \"Apple filled snacks with apple cinnamon seasoning, apple cinnamon bites\"\n",
      "}\n",
      "{\n",
      "\t\"_id\" : \"0011110094803\",\n",
      "\t\"product_name\" : \"White cheddar popcorn, white cheddar\"\n",
      "}\n",
      "{ \"_id\" : \"00000000\", \"product_name\" : \"Organic blue corn tortilla chips\" }\n",
      "{\n",
      "\t\"_id\" : \"0011110024688\",\n",
      "\t\"product_name\" : \"Simple truth, blanched almonds\"\n",
      "}\n",
      "{ \"_id\" : \"0011110024718\", \"product_name\" : \"Simple truth, pecans halves\" }\n",
      "Type \"it\" for more\n"
     ]
    }
   ],
   "source": [
    "!mongo open_food --quiet --eval 'db.products.find({categories: {$in: [\"Snacks\", \"Sweet snacks\", \"Confectioneries\", \"Candies\", \"Chews\"]}}, {_id: 1, product_name: 1}).pretty()'"
   ]
  },
  {
   "cell_type": "code",
   "execution_count": 23,
   "id": "7c57d6cb",
   "metadata": {},
   "outputs": [
    {
     "name": "stdout",
     "output_type": "stream",
     "text": [
      "{\n",
      "\t\"_id\" : \"0852909003299\",\n",
      "\t\"product_name\" : \"Almondmilk\",\n",
      "\t\"code\" : \"0852909003299\"\n",
      "}\n",
      "{\n",
      "\t\"_id\" : \"0840423102055\",\n",
      "\t\"code\" : \"0840423102055\",\n",
      "\t\"product_name\" : \"Garlic wine pasta with chicken meatballs with whole wheat rotini, white beans, and greens, cooked in avocado oil, and topped with parmesan and mozzarella, garlic wine pasta with chicken meatballs\"\n",
      "}\n"
     ]
    }
   ],
   "source": [
    "!mongo open_food --quiet --eval 'db.products.find({last_modified_t: {$gte: 1601856000}}, {_id: 1, code: 1, product_name: 1}).pretty()'"
   ]
  },
  {
   "cell_type": "code",
   "execution_count": 25,
   "id": "7362c4f9",
   "metadata": {},
   "outputs": [
    {
     "name": "stdout",
     "output_type": "stream",
     "text": [
      "115\n"
     ]
    }
   ],
   "source": [
    "!mongo open_food --quiet --eval 'db.products.count({packaging: \"Plastic\"})'"
   ]
  },
  {
   "cell_type": "code",
   "execution_count": 27,
   "id": "87102654",
   "metadata": {},
   "outputs": [
    {
     "name": "stdout",
     "output_type": "stream",
     "text": [
      "{\n",
      "\t\"_id\" : \"0099482455859\",\n",
      "\t\"creator\" : \"usda-ndb-import\",\n",
      "\t\"brands\" : \"365 Everyday Value,Whole Foods Market  Inc.\",\n",
      "\t\"code\" : \"0099482455859\",\n",
      "\t\"product_name\" : \"Whole Wheat Bread\"\n",
      "}\n"
     ]
    }
   ],
   "source": [
    "!mongo open_food --quiet --eval 'db.products.find({manufacturing_places: \"Austin, TX\", stores: \"Whole Foods\"}, {_id: 1, code: 1, creator: 1, product_name: 1, brands: 1}).pretty()'"
   ]
  },
  {
   "cell_type": "code",
   "execution_count": 34,
   "id": "872523d0",
   "metadata": {},
   "outputs": [
    {
     "name": "stdout",
     "output_type": "stream",
     "text": [
      "{\n",
      "\t\"_id\" : \"00547352\",\n",
      "\t\"product_name\" : \"Organic roasted vegetable pizza\",\n",
      "\t\"creator\" : \"djfkzz\",\n",
      "\t\"brands\" : \"Trader Joes\"\n",
      "}\n",
      "{\n",
      "\t\"_id\" : \"00556903\",\n",
      "\t\"brands\" : \"Trader Joes\",\n",
      "\t\"creator\" : \"djfkzz\",\n",
      "\t\"product_name\" : \"Thai Sweet Chili Veggie Burger\"\n",
      "}\n",
      "{\n",
      "\t\"_id\" : \"00508285\",\n",
      "\t\"product_name\" : \"Trader joes, sriracha sauce\",\n",
      "\t\"brands\" : \"Trader Joes\",\n",
      "\t\"creator\" : \"usda-ndb-import\"\n",
      "}\n"
     ]
    }
   ],
   "source": [
    "!mongo open_food --quiet --eval 'db.products.find({brands: \"Trader Joes\", product_name: {$ne:null}}, {_id: 1, creator: 1, product_name: 1, brands: 1}).sort({product_name: 1}).pretty()'"
   ]
  },
  {
   "cell_type": "code",
   "execution_count": 42,
   "id": "8951f684",
   "metadata": {},
   "outputs": [
    {
     "name": "stdout",
     "output_type": "stream",
     "text": [
      "{\n",
      "\t\"_id\" : \"0040000265252\",\n",
      "\t\"brands\" : \"Mars\",\n",
      "\t\"product_name\" : \"Almond & dark chocolate\"\n",
      "}\n",
      "{ \"_id\" : \"0040000422068\", \"brands\" : \"mars\", \"product_name\" : \"BAR\" }\n",
      "{\n",
      "\t\"_id\" : \"0044000029524\",\n",
      "\t\"product_name\" : \"Nabisco oreo cookies double stuf 1x4.1 oz\",\n",
      "\t\"brands\" : \"oreo\"\n",
      "}\n",
      "{\n",
      "\t\"_id\" : \"04005108\",\n",
      "\t\"product_name\" : \"Real fruit juice!\",\n",
      "\t\"brands\" : \"starburst\"\n",
      "}\n",
      "{ \"_id\" : \"04044086\", \"product_name\" : \"Twix\", \"brands\" : \"Mars\" }\n"
     ]
    }
   ],
   "source": [
    "!mongo open_food --quiet --eval 'db.products.find({brands: {$in: [\"mars\", \"Mars\", \"oreo\", \"starburst\"]}}, {_id: 1, product_name: 1, brands: 1}).sort({product_name: 1}).limit(5).pretty()'"
   ]
  },
  {
   "cell_type": "code",
   "execution_count": 66,
   "id": "71a85a6f",
   "metadata": {},
   "outputs": [],
   "source": [
    "doc = '{code: 1234567891012, creator: \"Mario\", product_name: \"Pizza\", brands: \"Digiorno\", origins: \"Italy\"}'"
   ]
  },
  {
   "cell_type": "code",
   "execution_count": 67,
   "id": "211f2af5",
   "metadata": {},
   "outputs": [
    {
     "name": "stdout",
     "output_type": "stream",
     "text": [
      "WriteResult({ \"nInserted\" : 1 })\n"
     ]
    }
   ],
   "source": [
    "!mongo open_food --quiet --eval 'db.products.insert({doc})'"
   ]
  },
  {
   "cell_type": "code",
   "execution_count": 68,
   "id": "b0d57111",
   "metadata": {},
   "outputs": [
    {
     "name": "stdout",
     "output_type": "stream",
     "text": [
      "{\n",
      "\t\"_id\" : ObjectId(\"617b3bdf20240296317390eb\"),\n",
      "\t\"code\" : 1234567891012,\n",
      "\t\"creator\" : \"Mario\",\n",
      "\t\"product_name\" : \"Pizza\",\n",
      "\t\"brands\" : \"Digiorno\",\n",
      "\t\"origins\" : \"Italy\"\n",
      "}\n"
     ]
    }
   ],
   "source": [
    "!mongo open_food --quiet --eval 'db.products.find({creator: \"Mario\"}).pretty()' "
   ]
  },
  {
   "cell_type": "code",
   "execution_count": 69,
   "id": "cff146a1",
   "metadata": {},
   "outputs": [
    {
     "name": "stdout",
     "output_type": "stream",
     "text": [
      "WriteResult({ \"nMatched\" : 1, \"nUpserted\" : 0, \"nModified\" : 1 })\n"
     ]
    }
   ],
   "source": [
    "!mongo open_food --quiet --eval 'db.products.update({creator: \"Mario\"}, {$set: {creator: \"Luigi\"}}, false)'"
   ]
  },
  {
   "cell_type": "code",
   "execution_count": 70,
   "id": "359e109d",
   "metadata": {},
   "outputs": [
    {
     "name": "stdout",
     "output_type": "stream",
     "text": [
      "{\n",
      "\t\"_id\" : ObjectId(\"617b3bdf20240296317390eb\"),\n",
      "\t\"code\" : 1234567891012,\n",
      "\t\"creator\" : \"Luigi\",\n",
      "\t\"product_name\" : \"Pizza\",\n",
      "\t\"brands\" : \"Digiorno\",\n",
      "\t\"origins\" : \"Italy\"\n",
      "}\n"
     ]
    }
   ],
   "source": [
    "!mongo open_food --quiet --eval 'db.products.find({creator: \"Luigi\"}).pretty()' "
   ]
  },
  {
   "cell_type": "code",
   "execution_count": 72,
   "id": "796a10fd",
   "metadata": {},
   "outputs": [
    {
     "name": "stdout",
     "output_type": "stream",
     "text": [
      "WriteResult({ \"nRemoved\" : 1 })\n"
     ]
    }
   ],
   "source": [
    "!mongo open_food --quiet --eval 'db.products.remove({creator: \"Luigi\"})'"
   ]
  },
  {
   "cell_type": "code",
   "execution_count": 73,
   "id": "8fba7339",
   "metadata": {},
   "outputs": [],
   "source": [
    "!mongo open_food --quiet --eval 'db.products.find({creator: \"Luigi\"}).pretty()' "
   ]
  },
  {
   "cell_type": "code",
   "execution_count": null,
   "id": "7d9489ec",
   "metadata": {},
   "outputs": [],
   "source": []
  }
 ],
 "metadata": {
  "environment": {
   "name": "common-cpu.m79",
   "type": "gcloud",
   "uri": "gcr.io/deeplearning-platform-release/base-cpu:m79"
  },
  "kernelspec": {
   "display_name": "Python 3",
   "language": "python",
   "name": "python3"
  },
  "language_info": {
   "codemirror_mode": {
    "name": "ipython",
    "version": 3
   },
   "file_extension": ".py",
   "mimetype": "text/x-python",
   "name": "python",
   "nbconvert_exporter": "python",
   "pygments_lexer": "ipython3",
   "version": "3.7.10"
  }
 },
 "nbformat": 4,
 "nbformat_minor": 5
}
